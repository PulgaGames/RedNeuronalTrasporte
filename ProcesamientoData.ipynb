{
 "cells": [
  {
   "cell_type": "code",
   "execution_count": 1,
   "metadata": {},
   "outputs": [],
   "source": [
    "import pandas as pd\n",
    "import itertools\n",
    "import numpy as np"
   ]
  },
  {
   "cell_type": "markdown",
   "metadata": {},
   "source": [
    "Primer Procesamiento de la informacion (Combinacion)"
   ]
  },
  {
   "cell_type": "code",
   "execution_count": 3,
   "metadata": {},
   "outputs": [],
   "source": [
    "# Leer el archivo Excel original\n",
    "df = pd.read_excel(\"DataPrimerProcesamiento.xlsx\")\n",
    "\n",
    "# Obtener todas las combinaciones posibles de las columnas \"Ruta\", \"Hora\", \"Dia\" y \"Cond_Ruta\"\n",
    "rutas = df[\"Ruta\"].tolist()\n",
    "horas = pd.date_range(start=\"5:00\", end=\"22:00\", freq=\"H\").strftime(\"%H:%M\").tolist()\n",
    "dias = df[\"Dia\"].dropna().unique().tolist()  # Filtrar valores nulos en la columna \"Dia\"\n",
    "condiciones = [\"optima\", \"poco optima\", \"no optima\"]\n",
    "\n",
    "combinaciones = list(itertools.product(rutas, horas, dias, condiciones))\n",
    "\n",
    "# Crear un DataFrame con las combinaciones\n",
    "df_combinaciones = pd.DataFrame(combinaciones, columns=[\"Ruta\", \"Hora\", \"Dia\", \"Cond_Ruta\"])\n",
    "\n",
    "# Guardar el DataFrame en un nuevo archivo Excel sin filas con valores nulos en la columna \"Dia\"\n",
    "df_combinaciones.dropna(subset=[\"Dia\"], inplace=True)\n",
    "df_combinaciones.to_excel(\"DataSegundoProcesamientoVx.xlsx\", index=False)\n"
   ]
  },
  {
   "cell_type": "markdown",
   "metadata": {},
   "source": [
    "Segundo Procesamiento (Asiganar el numero de vehiculos disponibles por ruta)"
   ]
  },
  {
   "cell_type": "code",
   "execution_count": 3,
   "metadata": {},
   "outputs": [],
   "source": [
    "# Leer el archivo Excel con las posibles combinaciones\n",
    "df = pd.read_excel(\"DataSegundoProcesamientoVx.xlsx\")\n",
    "\n",
    "# Función para asignar valores a la columna \"#Veh_Disp_x_rut\" según la ruta\n",
    "def asignar_valor_ruta(ruta):\n",
    "    if ruta in [6,40,15,49,18,52,28,62]:\n",
    "        return 3\n",
    "    elif ruta in [34,68,32,66,30,64,29,63,27,61,26,60,24,58,23,57,22,56,21,55,19,53,17,51,9,43,7,41,3,37]:\n",
    "        return 2\n",
    "    elif ruta in [33,67,31,65,25,59,20,54]:\n",
    "        return 4\n",
    "    elif ruta in [1,35,5,39,10,44,14,48]:\n",
    "        return 5\n",
    "    elif ruta in [4,38,8,42,11,45,13,47,]:\n",
    "        return 6\n",
    "    elif ruta in [2,36]:\n",
    "        return 7\n",
    "    elif ruta in [12,46,16,50]:\n",
    "        return 4\n",
    "    else:\n",
    "        return None\n",
    "\n",
    "# Aplicar la función a la columna \"Ruta\" para obtener los valores de \"#Veh_Disp_x_rut\"\n",
    "df[\"#Veh_Disp_x_rut\"] = df[\"Ruta\"].apply(asignar_valor_ruta)\n",
    "\n",
    "# Guardar el DataFrame en un nuevo archivo Excel\n",
    "df.to_excel(\"DataTercerProcesamientoVx.xlsx\", index=False)\n"
   ]
  },
  {
   "cell_type": "markdown",
   "metadata": {},
   "source": [
    "Tercer Procesamiento (Asiganar el numero de demanda por ruta)"
   ]
  },
  {
   "cell_type": "code",
   "execution_count": 4,
   "metadata": {},
   "outputs": [],
   "source": [
    "# Leer el archivo Excel con las combinaciones anteriores\n",
    "df = pd.read_excel(\"DataTercerProcesamientoVx.xlsx\")\n",
    "\n",
    "# Función para asignar valores a la columna \"demanda\" según la ruta\n",
    "def asignar_valor_demanda(ruta):\n",
    "    if ruta in [2,36,4,38,8,42,11,45,12,46,16,50,26,60]:\n",
    "        return 3\n",
    "    elif ruta in [33,67,31,65,30,64,25,59,24,58,23,57,20,54,14,48,13,47,10,44,5,39,3,37,1,35]:\n",
    "        return 2\n",
    "    elif ruta in [34,68,32,66,29,63,28,62,27,61,22,56,21,55,19,53,18,52,17,51,15,49,9,43,7,41,6,40]:\n",
    "        return 1\n",
    "    else:\n",
    "        return None\n",
    "\n",
    "# Aplicar la función a la columna \"Ruta\" para obtener los valores de \"demanda\"\n",
    "df[\"demanda\"] = df[\"Ruta\"].apply(asignar_valor_demanda)\n",
    "\n",
    "# Guardar el DataFrame en un nuevo archivo Excel\n",
    "df.to_excel(\"DataCuartoProcesamientoVx.xlsx\", index=False)\n"
   ]
  },
  {
   "cell_type": "markdown",
   "metadata": {},
   "source": [
    "Cuarto Procesamiento (categorizacion)"
   ]
  },
  {
   "cell_type": "code",
   "execution_count": 7,
   "metadata": {},
   "outputs": [],
   "source": [
    "\n",
    "# Leer el archivo Excel con las combinaciones y la columna \"Dia\"\n",
    "df = pd.read_excel(\"DataCuartoProcesamientoVx.xlsx\")\n",
    "\n",
    "# Función para asignar valores numéricos a la columna \"Dia\"\n",
    "def asignar_valor_dia(dia):\n",
    "    if dia in [\"lunes\", \"martes\", \"miercoles\", \"jueves\", \"viernes\"]:\n",
    "        return 3\n",
    "    elif dia in [\"sabado\", \"domingo\"]:\n",
    "        return 1\n",
    "    else:\n",
    "        return None\n",
    "\n",
    "# Aplicar la función a la columna \"Dia\" para obtener los valores numéricos\n",
    "df[\"Dia\"] = df[\"Dia\"].apply(asignar_valor_dia)\n",
    "\n",
    "\n",
    "# Función para asignar valores numéricos a la columna \"Cond_Ruta\"\n",
    "def asignar_valor_condicion(condicion):\n",
    "    if condicion == \"no optima\":\n",
    "        return 3\n",
    "    elif condicion == \"poco optima\":\n",
    "        return 2\n",
    "    elif condicion == \"optima\":\n",
    "        return 1\n",
    "    else:\n",
    "        return None\n",
    "\n",
    "# Aplicar la función a la columna \"Cond_Ruta\" para obtener los valores numéricos\n",
    "df[\"Cond_Ruta\"] = df[\"Cond_Ruta\"].apply(asignar_valor_condicion)\n",
    "\n",
    "# Guardar el DataFrame modificado en un nuevo archivo Excel\n",
    "df.to_excel(\"DataQuintoProcesamientoVx.xlsx\", index=False)"
   ]
  },
  {
   "cell_type": "code",
   "execution_count": 8,
   "metadata": {},
   "outputs": [],
   "source": [
    "# Leer el archivo Excel con las combinaciones y la columna \"Hora\"\n",
    "df = pd.read_excel(\"DataQuintoProcesamientoVx.xlsx\")\n",
    "\n",
    "# Función para asignar valores numéricos a la columna \"Hora\"\n",
    "def asignar_valor_hora(hora):\n",
    "    if hora in [\"05:00\",\"06:00\", \"07:00\", \"08:00\",  \"18:00\", \"19:00\"]:\n",
    "        return 3\n",
    "    elif hora in [ \"09:00\",  \"14:00\", \"15:00\", \"16:00\", \"17:00\",  \"22:00\"]:\n",
    "        return 1\n",
    "    elif hora in [\"10:00\", \"11:00\", \"12:00\", \"13:00\", \"14:00\",  \"20:00\", \"21:00\"]:\n",
    "        return 2\n",
    "    else:\n",
    "        return None\n",
    "\n",
    "# Aplicar la función a la columna \"Hora\" para obtener los valores numéricos\n",
    "df[\"Hora\"] = df[\"Hora\"].apply(asignar_valor_hora)\n",
    "\n",
    "# Guardar el DataFrame modificado en un nuevo archivo Excel\n",
    "df.to_excel(\"DataSextoProcesamientoVx.xlsx\", index=False)\n"
   ]
  },
  {
   "cell_type": "code",
   "execution_count": 9,
   "metadata": {},
   "outputs": [],
   "source": [
    "import pandas as pd\n",
    "\n",
    "# Cargar el DataFrame desde el archivo Excel\n",
    "df = pd.read_excel(\"DataSextoProcesamientoVx.xlsx\")\n",
    "\n",
    "# Diccionario de mapeo para la nueva columna \"DistRut_Km\"\n",
    "distancia_ruta = {\n",
    "    1: \"13,61\", 2: \"17,35\" , 3: \"7,4\", 4: \"12,2\", 5: \"13,15\", 6: \"7\", 7: \"19,26\", 8: \"11,4\", 9: \"22,6\", 10: \"12,19\", 11: \"17,14\", 12: \"16,5\", 13: \"11,25\", 14: \"10\", 15: \"9,37\", 16: \"14,71\", 17: \"11\", 18: \"18,85\", 19: \"12,4\", 20: \"12,6\", 21: \"10,08\", 22: \"8,3\", 23: \"11\", 24: \"12,3\", 25: \"14,71\", 26: \"11,6\", 27: \"10,7\", 28: \"11\", 29: \"1,8\", 30: \"8,3\",  31: \"18,85\", 32: \"17,35\", 33: \"11,25\", 34: \"17,78\", 35: \"13,61\", 36: \"17,35\" , 37: \"7,4\", 38: \"12,2\", 39: \"13,15\", 40: \"7\", 41: \"19,26\", 42: \"11,4\", 43: \"22,6\", 44: \"12,19\", 45: \"17,14\", 46: \"16,5\", 47: \"11,25\", 48: \"10\", 49: \"9,37\", 50: \"14,71\", 51: \"11\", 52: \"18,85\", 53: \"12,4\", 54: \"12,6\", 55: \"10,08\", 56: \"8,3\", 57: \"11\", 58: \"12,3\", 59: \"14,71\", 60: \"11,6\", 61: \"10,7\", 62: \"11\", 63: \"1,8\", 64: \"8,3\",  65: \"18,85\", 66: \"17,35\", 67: \"11,25\", 68: \"17,78\"   # Continúa para los demás valores...\n",
    "    # Asegúrate de añadir todas las correspondencias aquí\n",
    "}\n",
    "\n",
    "# Función para asignar el valor basado en la columna 'Ruta'\n",
    "def asignar_distancia(valor_ruta):\n",
    "    # Si el valor está en el diccionario, devuelve la distancia correspondiente\n",
    "    return distancia_ruta.get(valor_ruta, \"\")\n",
    "\n",
    "# Aplica la función para crear la nueva columna 'DistRut_Km'\n",
    "df['DistRut_Km'] = df['Ruta'].apply(asignar_distancia)\n",
    "\n",
    "# Guardar el DataFrame modificado en un nuevo archivo Excel\n",
    "df.to_excel(\"DataSeptimoProcesamientoVx.xlsx\", index=False)"
   ]
  },
  {
   "cell_type": "code",
   "execution_count": 10,
   "metadata": {},
   "outputs": [],
   "source": [
    "import pandas as pd\n",
    "\n",
    "# Cargar el DataFrame desde el archivo Excel\n",
    "df = pd.read_excel(\"DataSeptimoProcesamientoVx.xlsx\")\n",
    "\n",
    "# Diccionario de mapeo para la nueva columna \"Tiempo ruta\"\n",
    "distancia_ruta = {\n",
    "    1: \"28\", 2: \"38\" , 3: \"22\", 4: \"42\", 5: \"45\", 6: \"35\", 7: \"40\", 8: \"28\", 9: \"45\", 10: \"45\", 11: \"50\", 12: \"50\", 13: \"42\", 14: \"26\", 15: \"42\", 16: \"47\", 17: \"37\", 18: \"52\", 19: \"50\", 20: \"55\", 21: \"40\", 22: \"28\", 23: \"35\", 24: \"35\", 25: \"47\", 26: \"43\", 27: \"45\", 28: \"37\", 29: \"11\", 30: \"32\",  31: \"52\", 32: \"38\" , 33: \"42\", 34: \"50\", 35: \"28\", 36: \"38\" , 37: \"22\", 38: \"42\", 39: \"45\", 40: \"35\", 41: \"40\", 42: \"28\", 43: \"45\", 44: \"45\", 45: \"50\", 46: \"50\", 47: \"42\", 48: \"26\", 49: \"42\", 50: \"47\", 51: \"37\", 52: \"52\", 53: \"50\", 54: \"55\", 55: \"40\", 56: \"28\", 57: \"35\", 58: \"35\", 59: \"47\", 60: \"43\", 61: \"45\", 62: \"37\", 63: \"11\", 64: \"32\",  65: \"52\", 66: \"38\" , 67: \"42\", 68: \"50\"\n",
    "   \n",
    "}\n",
    "\n",
    "# Función para asignar el valor basado en la columna 'Ruta'\n",
    "def asignar_distancia(valor_ruta):\n",
    "    # Si el valor está en el diccionario, devuelve la distancia correspondiente\n",
    "    return distancia_ruta.get(valor_ruta, \"\")\n",
    "\n",
    "# Aplica la función para crear la nueva columna 'DistRut_Km'\n",
    "df['TimeRuta'] = df['Ruta'].apply(asignar_distancia)\n",
    "\n",
    "# Guardar el DataFrame modificado en un nuevo archivo Excel\n",
    "df.to_excel(\"DataOctavoProcesamientoVx.xlsx\", index=False)"
   ]
  },
  {
   "cell_type": "code",
   "execution_count": 38,
   "metadata": {},
   "outputs": [],
   "source": [
    "\n",
    "import pandas as pd\n",
    "\n",
    "# Cargar el DataFrame desde el archivo Excel\n",
    "df = pd.read_excel(\"DataOctavoProcesamientoVx.xlsx\")\n",
    "\n",
    "# Diccionario de mapeo para la nueva columna \"DistRut_Km\"\n",
    "distancia_ruta = {\n",
    "    1: \"1566\", 2: \"2850\" , 3: \"230\", 4: \"2228\", 5: \"1924\", 6: \"976\", 7: \"418\", 8: \"2870\", 9: \"360\", 10: \"1357\", 11: \"2150\", 12: \"4032\", 13: \"2652\", 14: \"1254\", 15: \"576\", 16: \"4884\", 17: \"132\", 18: \"819\", 19: \"195\", 20: \"1128\", 21: \"160\", 22: \"170\", 23: \"210\", 24: \"240\", 25: \"1430\", 26: \"320\", 27: \"280\", 28: \"560\", 29: \"150\", 30: \"250\",  31: \"1406\", 32: \"72\" , 33: \"1465\", 34: \"96\", 35: \"1566\", 36: \"2850\" , 37: \"230\", 38: \"2228\", 39: \"1924\", 40: \"976\", 41: \"418\", 42: \"2870\", 43: \"360\", 44: \"1357\", 45: \"2150\", 46: \"4032\", 47: \"2652\", 48: \"1254\", 49: \"576\", 50: \"4884\", 51: \"132\", 52: \"819\", 53: \"195\", 54: \"1128\", 55: \"160\", 56: \"170\", 57: \"210\", 58: \"240\", 59: \"1430\", 60: \"320\", 61: \"280\", 62: \"560\", 63: \"150\", 64: \"250\",  65: \"1406\", 66: \"72\" , 67: \"1465\", 68: \"96\"\n",
    "   \n",
    "}\n",
    "\n",
    "# Función para asignar el valor basado en la columna 'Ruta'\n",
    "def asignar_distancia(valor_ruta):\n",
    "    # Si el valor está en el diccionario, devuelve la distancia correspondiente\n",
    "    return distancia_ruta.get(valor_ruta, \"\")\n",
    "\n",
    "# Aplica la función para crear la nueva columna 'DistRut_Km'\n",
    "df['PromPasDia'] = df['Ruta'].apply(asignar_distancia)\n",
    "\n",
    "# Guardar el DataFrame modificado en un nuevo archivo Excel\n",
    "df.to_excel(\"DataNovenoProcesamientoVx.xlsx\", index=False)  \n",
    "\n",
    "\n",
    "\n"
   ]
  }
 ],
 "metadata": {
  "kernelspec": {
   "display_name": "Python 3",
   "language": "python",
   "name": "python3"
  },
  "language_info": {
   "codemirror_mode": {
    "name": "ipython",
    "version": 3
   },
   "file_extension": ".py",
   "mimetype": "text/x-python",
   "name": "python",
   "nbconvert_exporter": "python",
   "pygments_lexer": "ipython3",
   "version": "3.11.6"
  }
 },
 "nbformat": 4,
 "nbformat_minor": 2
}
